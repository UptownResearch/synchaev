{
 "cells": [
  {
   "cell_type": "code",
   "execution_count": 182,
   "metadata": {},
   "outputs": [],
   "source": [
    "import re\n",
    "import json \n",
    "import pickle\n",
    "from datasets import load_dataset \n",
    "from langchain.schema import HumanMessage, AIMessage\n",
    "\n",
    "input_path = \"data/runs/agentinstruct_db_syn_v4-sharegpt-dbbench-dev.jsonl\"\n",
    "output_path = \"data/runs/agentinstruct_db_syn_v4-sharegpt-dbbench-dev-to_view.pickle\""
   ]
  },
  {
   "cell_type": "code",
   "execution_count": 183,
   "metadata": {},
   "outputs": [],
   "source": [
    "runs_list = []\n",
    "\n",
    "with open(input_path, 'r') as file:\n",
    "    for line in file:\n",
    "        runs_list.append(json.loads(line))"
   ]
  },
  {
   "cell_type": "markdown",
   "metadata": {},
   "source": [
    "#### AgentBench runs"
   ]
  },
  {
   "cell_type": "markdown",
   "metadata": {},
   "source": [
    "OS Interaction"
   ]
  },
  {
   "cell_type": "code",
   "execution_count": 116,
   "metadata": {},
   "outputs": [],
   "source": [
    "runs_to_view_list = {\"agents\": [], 'environments': []}\n",
    "\n",
    "for runs in runs_list:\n",
    "    agent_conv, env_conv = [], []\n",
    "    for i, msg in enumerate(runs[\"output\"][\"history\"]):\n",
    "        if msg[\"role\"] == \"agent\":    \n",
    "            agent_conv.append(AIMessage(content=msg[\"content\"], additional_kwargs={}, example=False))\n",
    "        if msg[\"role\"] == \"user\":\n",
    "            agent_conv.append(HumanMessage(content=msg[\"content\"], additional_kwargs={}, example=False))\n",
    "            if i!=0:\n",
    "                env_conv.append(HumanMessage(content=\"\", additional_kwargs={}, example=False))\n",
    "                env_conv.append(HumanMessage(content=msg[\"content\"], additional_kwargs={}, example=False))\n",
    "    runs_to_view_list[\"agents\"].append(agent_conv)\n",
    "    runs_to_view_list[\"environments\"].append(env_conv)"
   ]
  },
  {
   "cell_type": "code",
   "execution_count": 44,
   "metadata": {},
   "outputs": [],
   "source": [
    "with open(output_path, 'wb') as file:\n",
    "    pickle.dump(runs_to_view_list, file)"
   ]
  },
  {
   "cell_type": "markdown",
   "metadata": {},
   "source": [
    "DBBench "
   ]
  },
  {
   "cell_type": "markdown",
   "metadata": {},
   "source": [
    "To view in synchaev"
   ]
  },
  {
   "cell_type": "code",
   "execution_count": 176,
   "metadata": {},
   "outputs": [],
   "source": [
    "runs_to_view_list = {\"agents\": [], 'environments': []}\n",
    "\n",
    "for runs in runs_list:\n",
    "    agent_conv, env_conv = [], []\n",
    "    for i, msg in enumerate(runs[\"output\"][\"history\"]):\n",
    "        if msg[\"role\"] == \"agent\":    \n",
    "            agent_conv.append(AIMessage(content=msg[\"content\"], additional_kwargs={}, example=False))\n",
    "            sql_block = re.search(r\"```sql(.*?)```\", msg[\"content\"], re.DOTALL)\n",
    "            if sql_block:\n",
    "                sql_code = sql_block.group(1).strip()\n",
    "                env_conv.append(HumanMessage(content=f\"```sql_code{sql_code}```\", additional_kwargs={}, example=False))\n",
    "        if msg[\"role\"] == \"user\":\n",
    "            agent_conv.append(HumanMessage(content=msg[\"content\"], additional_kwargs={}, example=False))\n",
    "            if i!=0 and i!=2:\n",
    "                env_conv.append(HumanMessage(content=msg[\"content\"], additional_kwargs={}, example=False))\n",
    "    runs_to_view_list[\"agents\"].append(agent_conv)\n",
    "    runs_to_view_list[\"environments\"].append(env_conv)"
   ]
  },
  {
   "cell_type": "code",
   "execution_count": 172,
   "metadata": {},
   "outputs": [],
   "source": [
    "with open(output_path, 'wb') as file:\n",
    "    pickle.dump(runs_to_view_list, file)"
   ]
  },
  {
   "cell_type": "markdown",
   "metadata": {},
   "source": [
    "#### Synthetic Data"
   ]
  },
  {
   "cell_type": "markdown",
   "metadata": {},
   "source": [
    "DBBench"
   ]
  }
 ],
 "metadata": {
  "kernelspec": {
   "display_name": "base",
   "language": "python",
   "name": "python3"
  },
  "language_info": {
   "codemirror_mode": {
    "name": "ipython",
    "version": 3
   },
   "file_extension": ".py",
   "mimetype": "text/x-python",
   "name": "python",
   "nbconvert_exporter": "python",
   "pygments_lexer": "ipython3",
   "version": "3.11.5"
  }
 },
 "nbformat": 4,
 "nbformat_minor": 2
}
