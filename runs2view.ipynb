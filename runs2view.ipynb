{
 "cells": [
  {
   "cell_type": "code",
   "execution_count": 17,
   "metadata": {},
   "outputs": [],
   "source": [
    "import json \n",
    "import pickle\n",
    "from datasets import load_dataset \n",
    "from langchain.schema import HumanMessage, AIMessage\n",
    "\n",
    "input_path = \"data/runs/llama2-os-dev.jsonl\"\n",
    "output_path = \"data/runs/llama2-os-dev-to_view.pickle\""
   ]
  },
  {
   "cell_type": "code",
   "execution_count": 18,
   "metadata": {},
   "outputs": [],
   "source": [
    "runs_list = []\n",
    "\n",
    "with open(input_path, 'r') as file:\n",
    "    for line in file:\n",
    "        runs_list.append(json.loads(line))"
   ]
  },
  {
   "cell_type": "code",
   "execution_count": 19,
   "metadata": {},
   "outputs": [],
   "source": [
    "runs_to_view_list = {\"agents\": [], 'environments': []}\n",
    "\n",
    "for runs in runs_list:\n",
    "    agent_conv, env_conv = [], []\n",
    "    for i, msg in enumerate(runs[\"output\"][\"history\"]):\n",
    "        if msg[\"role\"] == \"agent\":    \n",
    "            agent_conv.append(AIMessage(content=msg[\"content\"], additional_kwargs={}, example=False))\n",
    "        if msg[\"role\"] == \"user\":\n",
    "            agent_conv.append(HumanMessage(content=msg[\"content\"], additional_kwargs={}, example=False))\n",
    "            if i!=0:\n",
    "                env_conv.append(HumanMessage(content=\"\", additional_kwargs={}, example=False))\n",
    "                env_conv.append(HumanMessage(content=msg[\"content\"], additional_kwargs={}, example=False))\n",
    "    runs_to_view_list[\"agents\"].append(agent_conv)\n",
    "    runs_to_view_list[\"environments\"].append(env_conv)"
   ]
  },
  {
   "cell_type": "code",
   "execution_count": 20,
   "metadata": {},
   "outputs": [],
   "source": [
    "with open(output_path, 'wb') as file:\n",
    "    pickle.dump(runs_to_view_list, file)"
   ]
  }
 ],
 "metadata": {
  "kernelspec": {
   "display_name": "base",
   "language": "python",
   "name": "python3"
  },
  "language_info": {
   "codemirror_mode": {
    "name": "ipython",
    "version": 3
   },
   "file_extension": ".py",
   "mimetype": "text/x-python",
   "name": "python",
   "nbconvert_exporter": "python",
   "pygments_lexer": "ipython3",
   "version": "3.11.5"
  }
 },
 "nbformat": 4,
 "nbformat_minor": 2
}
