{
 "cells": [
  {
   "cell_type": "code",
   "execution_count": 250,
   "metadata": {},
   "outputs": [],
   "source": [
    "import re\n",
    "import json \n",
    "import pickle\n",
    "from datasets import load_dataset \n",
    "from langchain.schema import HumanMessage, AIMessage\n",
    "\n",
    "# input_path = \"data/runs/agentinstruct_db_syn_v4_filtered_v2-sharegpt-dbbench-dev.jsonl\"\n",
    "# output_path = \"data/runs/agentinstruct_db_syn_v4_filtered_v2-sharegpt-dbbench-dev-to_view.pickle\"\n",
    "input_path = r\"C:\\Users\\harsh\\Documents\\crypto-LLM-exps\\synchaev\\data\\dbbench\\agentinstruct_db.json\"\n",
    "output_path = r\"C:\\Users\\harsh\\Documents\\crypto-LLM-exps\\synchaev\\data\\dbbench\\agentinstruct_db-to_view.pickle\""
   ]
  },
  {
   "cell_type": "code",
   "execution_count": 251,
   "metadata": {},
   "outputs": [],
   "source": [
    "if \"jsonl\" in input_path: \n",
    "    runs_list = []\n",
    "\n",
    "    with open(input_path, 'r') as file:\n",
    "        for line in file:\n",
    "            runs_list.append(json.loads(line))\n",
    "else:\n",
    "    with open(input_path, \"r\") as f:\n",
    "        runs_list = json.load(f)"
   ]
  },
  {
   "cell_type": "markdown",
   "metadata": {},
   "source": [
    "#### AgentBench runs"
   ]
  },
  {
   "cell_type": "markdown",
   "metadata": {},
   "source": [
    "OS Interaction"
   ]
  },
  {
   "cell_type": "code",
   "execution_count": 116,
   "metadata": {},
   "outputs": [],
   "source": [
    "runs_to_view_list = {\"agents\": [], 'environments': []}\n",
    "\n",
    "for runs in runs_list:\n",
    "    agent_conv, env_conv = [], []\n",
    "    for i, msg in enumerate(runs[\"output\"][\"history\"]):\n",
    "        if msg[\"role\"] == \"agent\":    \n",
    "            agent_conv.append(AIMessage(content=msg[\"content\"], additional_kwargs={}, example=False))\n",
    "        if msg[\"role\"] == \"user\":\n",
    "            agent_conv.append(HumanMessage(content=msg[\"content\"], additional_kwargs={}, example=False))\n",
    "            if i!=0:\n",
    "                env_conv.append(HumanMessage(content=\"\", additional_kwargs={}, example=False))\n",
    "                env_conv.append(HumanMessage(content=msg[\"content\"], additional_kwargs={}, example=False))\n",
    "    runs_to_view_list[\"agents\"].append(agent_conv)\n",
    "    runs_to_view_list[\"environments\"].append(env_conv)"
   ]
  },
  {
   "cell_type": "code",
   "execution_count": 44,
   "metadata": {},
   "outputs": [],
   "source": [
    "with open(output_path, 'wb') as file:\n",
    "    pickle.dump(runs_to_view_list, file)"
   ]
  },
  {
   "cell_type": "markdown",
   "metadata": {},
   "source": [
    "DBBench "
   ]
  },
  {
   "cell_type": "code",
   "execution_count": 213,
   "metadata": {},
   "outputs": [
    {
     "ename": "KeyError",
     "evalue": "'output'",
     "output_type": "error",
     "traceback": [
      "\u001b[1;31m---------------------------------------------------------------------------\u001b[0m",
      "\u001b[1;31mKeyError\u001b[0m                                  Traceback (most recent call last)",
      "\u001b[1;32mc:\\Users\\harsh\\Documents\\crypto-LLM-exps\\synchaev\\runs2view.ipynb Cell 8\u001b[0m line \u001b[0;36m5\n\u001b[0;32m      <a href='vscode-notebook-cell:/c%3A/Users/harsh/Documents/crypto-LLM-exps/synchaev/runs2view.ipynb#X21sZmlsZQ%3D%3D?line=2'>3</a>\u001b[0m \u001b[39mfor\u001b[39;00m runs \u001b[39min\u001b[39;00m runs_list:\n\u001b[0;32m      <a href='vscode-notebook-cell:/c%3A/Users/harsh/Documents/crypto-LLM-exps/synchaev/runs2view.ipynb#X21sZmlsZQ%3D%3D?line=3'>4</a>\u001b[0m     agent_conv, env_conv \u001b[39m=\u001b[39m [], []\n\u001b[1;32m----> <a href='vscode-notebook-cell:/c%3A/Users/harsh/Documents/crypto-LLM-exps/synchaev/runs2view.ipynb#X21sZmlsZQ%3D%3D?line=4'>5</a>\u001b[0m     \u001b[39mfor\u001b[39;00m i, msg \u001b[39min\u001b[39;00m \u001b[39menumerate\u001b[39m(runs[\u001b[39m\"\u001b[39m\u001b[39moutput\u001b[39m\u001b[39m\"\u001b[39m][\u001b[39m\"\u001b[39m\u001b[39mhistory\u001b[39m\u001b[39m\"\u001b[39m]):\n\u001b[0;32m      <a href='vscode-notebook-cell:/c%3A/Users/harsh/Documents/crypto-LLM-exps/synchaev/runs2view.ipynb#X21sZmlsZQ%3D%3D?line=5'>6</a>\u001b[0m         \u001b[39mif\u001b[39;00m msg[\u001b[39m\"\u001b[39m\u001b[39mrole\u001b[39m\u001b[39m\"\u001b[39m] \u001b[39m==\u001b[39m \u001b[39m\"\u001b[39m\u001b[39magent\u001b[39m\u001b[39m\"\u001b[39m:    \n\u001b[0;32m      <a href='vscode-notebook-cell:/c%3A/Users/harsh/Documents/crypto-LLM-exps/synchaev/runs2view.ipynb#X21sZmlsZQ%3D%3D?line=6'>7</a>\u001b[0m             agent_conv\u001b[39m.\u001b[39mappend(AIMessage(content\u001b[39m=\u001b[39mmsg[\u001b[39m\"\u001b[39m\u001b[39mcontent\u001b[39m\u001b[39m\"\u001b[39m], additional_kwargs\u001b[39m=\u001b[39m{}, example\u001b[39m=\u001b[39m\u001b[39mFalse\u001b[39;00m))\n",
      "\u001b[1;31mKeyError\u001b[0m: 'output'"
     ]
    }
   ],
   "source": [
    "runs_to_view_list = {\"agents\": [], 'environments': []}\n",
    "\n",
    "for runs in runs_list:\n",
    "    agent_conv, env_conv = [], []\n",
    "    for i, msg in enumerate(runs[\"output\"][\"history\"]):\n",
    "        if msg[\"role\"] == \"agent\":    \n",
    "            agent_conv.append(AIMessage(content=msg[\"content\"], additional_kwargs={}, example=False))\n",
    "            sql_block = re.search(r\"```sql(.*?)```\", msg[\"content\"], re.DOTALL)\n",
    "            if sql_block:\n",
    "                sql_code = sql_block.group(1).strip()\n",
    "                env_conv.append(HumanMessage(content=f\"```sql\\n{sql_code}\\n```\", additional_kwargs={}, example=False))\n",
    "        if msg[\"role\"] == \"user\":\n",
    "            agent_conv.append(HumanMessage(content=msg[\"content\"], additional_kwargs={}, example=False))\n",
    "            if i!=0 and i!=2:\n",
    "                env_conv.append(HumanMessage(content=msg[\"content\"], additional_kwargs={}, example=False))\n",
    "    runs_to_view_list[\"agents\"].append(agent_conv)\n",
    "    runs_to_view_list[\"environments\"].append(env_conv)"
   ]
  },
  {
   "cell_type": "code",
   "execution_count": 206,
   "metadata": {},
   "outputs": [],
   "source": [
    "with open(output_path, 'wb') as file:\n",
    "    pickle.dump(runs_to_view_list, file)"
   ]
  },
  {
   "cell_type": "markdown",
   "metadata": {},
   "source": [
    "#### Synthetic Data"
   ]
  },
  {
   "cell_type": "markdown",
   "metadata": {},
   "source": [
    "DBBench"
   ]
  },
  {
   "cell_type": "code",
   "execution_count": 252,
   "metadata": {},
   "outputs": [],
   "source": [
    "runs_to_view_list = {\"agents\": [], 'environments': []}\n",
    "\n",
    "for runs in runs_list:\n",
    "    agent_conv, env_conv = [], []\n",
    "    for i, msg in enumerate(runs[\"conversations\"]):\n",
    "        if i==0 or i==2:\n",
    "            agent_conv.append(HumanMessage(content=msg[\"value\"], additional_kwargs={}, example=False))\n",
    "        if msg[\"from\"] == \"gpt\":    \n",
    "            agent_conv.append(AIMessage(content=msg[\"value\"], additional_kwargs={}, example=False))\n",
    "            # sql_block = re.search(r\"```sql(.*?)```\", msg[\"value\"], re.DOTALL)\n",
    "            # if sql_block:\n",
    "            #     sql_code = sql_block.group(1).strip()\n",
    "            #     env_conv.append(HumanMessage(content=f\"```sql\\n{sql_code}\\n```\", additional_kwargs={}, example=False))\n",
    "        if msg[\"from\"] == \"human\":\n",
    "            # agent_conv.append(HumanMessage(content=msg[\"value\"], additional_kwargs={}, example=False))\n",
    "            if i!=0 and i!=2:\n",
    "                env_conv.append(HumanMessage(content=msg[\"value\"], additional_kwargs={}, example=False))\n",
    "    runs_to_view_list[\"agents\"].append(agent_conv)\n",
    "    runs_to_view_list[\"environments\"].append(env_conv)"
   ]
  },
  {
   "cell_type": "code",
   "execution_count": 253,
   "metadata": {},
   "outputs": [],
   "source": [
    "with open(output_path, 'wb') as file:\n",
    "    pickle.dump(runs_to_view_list, file)"
   ]
  }
 ],
 "metadata": {
  "kernelspec": {
   "display_name": "base",
   "language": "python",
   "name": "python3"
  },
  "language_info": {
   "codemirror_mode": {
    "name": "ipython",
    "version": 3
   },
   "file_extension": ".py",
   "mimetype": "text/x-python",
   "name": "python",
   "nbconvert_exporter": "python",
   "pygments_lexer": "ipython3",
   "version": "3.11.5"
  }
 },
 "nbformat": 4,
 "nbformat_minor": 2
}
